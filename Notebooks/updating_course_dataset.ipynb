{
 "cells": [
  {
   "cell_type": "code",
   "execution_count": 1,
   "id": "fd695f38-a16c-49f1-9cda-4b17d969f986",
   "metadata": {},
   "outputs": [],
   "source": [
    "import pandas as pd\n",
    "import numpy as np\n",
    "import matplotlib.pyplot as plt\n",
    "import seaborn as sns\n",
    "import warnings\n",
    "pd.set_option('display.max_columns', None)\n",
    "warnings.filterwarnings('ignore')"
   ]
  },
  {
   "cell_type": "code",
   "execution_count": 2,
   "id": "eede8e00-27f0-4c77-904c-5c64a1d89fee",
   "metadata": {},
   "outputs": [],
   "source": [
    "df = pd.read_excel('Datasets/online_course_recommendation_v2.xlsx')"
   ]
  },
  {
   "cell_type": "code",
   "execution_count": 3,
   "id": "f5930e99-ca57-4f0c-9933-b6d2e0c40215",
   "metadata": {},
   "outputs": [
    {
     "data": {
      "text/html": [
       "<div>\n",
       "<style scoped>\n",
       "    .dataframe tbody tr th:only-of-type {\n",
       "        vertical-align: middle;\n",
       "    }\n",
       "\n",
       "    .dataframe tbody tr th {\n",
       "        vertical-align: top;\n",
       "    }\n",
       "\n",
       "    .dataframe thead th {\n",
       "        text-align: right;\n",
       "    }\n",
       "</style>\n",
       "<table border=\"1\" class=\"dataframe\">\n",
       "  <thead>\n",
       "    <tr style=\"text-align: right;\">\n",
       "      <th></th>\n",
       "      <th>user_id</th>\n",
       "      <th>course_id</th>\n",
       "      <th>course_name</th>\n",
       "      <th>instructor</th>\n",
       "      <th>course_duration_hours</th>\n",
       "      <th>certification_offered</th>\n",
       "      <th>difficulty_level</th>\n",
       "      <th>rating</th>\n",
       "      <th>enrollment_numbers</th>\n",
       "      <th>course_price</th>\n",
       "      <th>feedback_score</th>\n",
       "      <th>study_material_available</th>\n",
       "      <th>time_spent_hours</th>\n",
       "      <th>previous_courses_taken</th>\n",
       "    </tr>\n",
       "  </thead>\n",
       "  <tbody>\n",
       "    <tr>\n",
       "      <th>0</th>\n",
       "      <td>15796</td>\n",
       "      <td>9366</td>\n",
       "      <td>Python for Beginners</td>\n",
       "      <td>Emma Harris</td>\n",
       "      <td>39.1</td>\n",
       "      <td>Yes</td>\n",
       "      <td>Beginner</td>\n",
       "      <td>5.0</td>\n",
       "      <td>21600</td>\n",
       "      <td>317.50</td>\n",
       "      <td>0.797</td>\n",
       "      <td>Yes</td>\n",
       "      <td>17.60</td>\n",
       "      <td>4</td>\n",
       "    </tr>\n",
       "    <tr>\n",
       "      <th>1</th>\n",
       "      <td>861</td>\n",
       "      <td>1928</td>\n",
       "      <td>Cybersecurity for Professionals</td>\n",
       "      <td>Alexander Young</td>\n",
       "      <td>36.3</td>\n",
       "      <td>Yes</td>\n",
       "      <td>Beginner</td>\n",
       "      <td>4.3</td>\n",
       "      <td>15379</td>\n",
       "      <td>40.99</td>\n",
       "      <td>0.770</td>\n",
       "      <td>Yes</td>\n",
       "      <td>28.97</td>\n",
       "      <td>9</td>\n",
       "    </tr>\n",
       "    <tr>\n",
       "      <th>2</th>\n",
       "      <td>38159</td>\n",
       "      <td>9541</td>\n",
       "      <td>DevOps and Continuous Deployment</td>\n",
       "      <td>Dr. Mia Walker</td>\n",
       "      <td>13.4</td>\n",
       "      <td>Yes</td>\n",
       "      <td>Beginner</td>\n",
       "      <td>3.9</td>\n",
       "      <td>6431</td>\n",
       "      <td>380.81</td>\n",
       "      <td>0.772</td>\n",
       "      <td>Yes</td>\n",
       "      <td>52.44</td>\n",
       "      <td>4</td>\n",
       "    </tr>\n",
       "    <tr>\n",
       "      <th>3</th>\n",
       "      <td>44733</td>\n",
       "      <td>3708</td>\n",
       "      <td>Project Management Fundamentals</td>\n",
       "      <td>Benjamin Lewis</td>\n",
       "      <td>58.3</td>\n",
       "      <td>Yes</td>\n",
       "      <td>Beginner</td>\n",
       "      <td>3.1</td>\n",
       "      <td>48245</td>\n",
       "      <td>342.80</td>\n",
       "      <td>0.969</td>\n",
       "      <td>No</td>\n",
       "      <td>22.29</td>\n",
       "      <td>6</td>\n",
       "    </tr>\n",
       "    <tr>\n",
       "      <th>4</th>\n",
       "      <td>11285</td>\n",
       "      <td>3361</td>\n",
       "      <td>Ethical Hacking Masterclass</td>\n",
       "      <td>Daniel White</td>\n",
       "      <td>30.8</td>\n",
       "      <td>Yes</td>\n",
       "      <td>Beginner</td>\n",
       "      <td>2.8</td>\n",
       "      <td>34556</td>\n",
       "      <td>381.01</td>\n",
       "      <td>0.555</td>\n",
       "      <td>Yes</td>\n",
       "      <td>22.01</td>\n",
       "      <td>5</td>\n",
       "    </tr>\n",
       "  </tbody>\n",
       "</table>\n",
       "</div>"
      ],
      "text/plain": [
       "   user_id  course_id                       course_name       instructor  \\\n",
       "0    15796       9366              Python for Beginners      Emma Harris   \n",
       "1      861       1928   Cybersecurity for Professionals  Alexander Young   \n",
       "2    38159       9541  DevOps and Continuous Deployment   Dr. Mia Walker   \n",
       "3    44733       3708   Project Management Fundamentals   Benjamin Lewis   \n",
       "4    11285       3361       Ethical Hacking Masterclass     Daniel White   \n",
       "\n",
       "   course_duration_hours certification_offered difficulty_level  rating  \\\n",
       "0                   39.1                   Yes         Beginner     5.0   \n",
       "1                   36.3                   Yes         Beginner     4.3   \n",
       "2                   13.4                   Yes         Beginner     3.9   \n",
       "3                   58.3                   Yes         Beginner     3.1   \n",
       "4                   30.8                   Yes         Beginner     2.8   \n",
       "\n",
       "   enrollment_numbers  course_price  feedback_score study_material_available  \\\n",
       "0               21600        317.50           0.797                      Yes   \n",
       "1               15379         40.99           0.770                      Yes   \n",
       "2                6431        380.81           0.772                      Yes   \n",
       "3               48245        342.80           0.969                       No   \n",
       "4               34556        381.01           0.555                      Yes   \n",
       "\n",
       "   time_spent_hours  previous_courses_taken  \n",
       "0             17.60                       4  \n",
       "1             28.97                       9  \n",
       "2             52.44                       4  \n",
       "3             22.29                       6  \n",
       "4             22.01                       5  "
      ]
     },
     "execution_count": 3,
     "metadata": {},
     "output_type": "execute_result"
    }
   ],
   "source": [
    "df.head()"
   ]
  },
  {
   "cell_type": "code",
   "execution_count": 9,
   "id": "ad2885c0-ea6d-45e3-b316-8077dc9d1f75",
   "metadata": {},
   "outputs": [],
   "source": [
    "course_lists = df.course_name.value_counts().keys().tolist()\n",
    "instructor_list = df.instructor.value_counts().keys().tolist()"
   ]
  },
  {
   "cell_type": "code",
   "execution_count": 10,
   "id": "89c578e5-d768-489f-9378-2184635523c2",
   "metadata": {},
   "outputs": [
    {
     "data": {
      "text/plain": [
       "['Networking and System Administration',\n",
       " 'Cybersecurity for Professionals',\n",
       " 'Advanced Machine Learning',\n",
       " 'Ethical Hacking Masterclass',\n",
       " 'Graphic Design with Canva',\n",
       " 'DevOps and Continuous Deployment',\n",
       " 'Public Speaking Mastery',\n",
       " 'Mobile App Development with Swift',\n",
       " 'Stock Market and Trading Strategies',\n",
       " 'Data Visualization with Tableau',\n",
       " 'AI for Business Leaders',\n",
       " 'Photography and Video Editing',\n",
       " 'Project Management Fundamentals',\n",
       " 'Blockchain and Decentralized Applications',\n",
       " 'Fundamentals of Digital Marketing',\n",
       " 'Personal Finance and Wealth Building',\n",
       " 'Python for Beginners',\n",
       " 'Cloud Computing Essentials',\n",
       " 'Fitness and Nutrition Coaching',\n",
       " 'Game Development with Unity']"
      ]
     },
     "execution_count": 10,
     "metadata": {},
     "output_type": "execute_result"
    }
   ],
   "source": [
    "course_lists"
   ]
  },
  {
   "cell_type": "code",
   "execution_count": 11,
   "id": "1a46eff7-80ce-4aa1-875d-cbeb241e871e",
   "metadata": {},
   "outputs": [
    {
     "data": {
      "text/plain": [
       "['Jessica Martinez',\n",
       " 'Sophia Anderson',\n",
       " 'David Wilson',\n",
       " 'Emma Harris',\n",
       " 'Isabella Scott',\n",
       " 'Liam Adams',\n",
       " 'Charlotte King',\n",
       " 'Sarah Lee',\n",
       " 'Michael Brown',\n",
       " 'Prof. Emily Johnson',\n",
       " 'Dr. John Smith',\n",
       " 'Dr. Mia Walker',\n",
       " 'Olivia Taylor',\n",
       " 'Dr. Robert Davis',\n",
       " 'James Clark',\n",
       " 'Alexander Young',\n",
       " 'Daniel White',\n",
       " 'William Thomas',\n",
       " 'Ethan Hall',\n",
       " 'Benjamin Lewis']"
      ]
     },
     "execution_count": 11,
     "metadata": {},
     "output_type": "execute_result"
    }
   ],
   "source": [
    "instructor_list"
   ]
  },
  {
   "cell_type": "code",
   "execution_count": 51,
   "id": "4c09c647-631c-47eb-9bc0-d743025b0ed8",
   "metadata": {},
   "outputs": [],
   "source": [
    "course_images = {\n",
    "    # Tech & IT (All URLs verified)\n",
    "    \"Networking and System Administration\": \"https://images.unsplash.com/photo-1573164713988-8665fc963095\",  # Server racks (working)\n",
    "    \"Cybersecurity for Professionals\": \"https://images.pexels.com/photos/577585/pexels-photo-577585.jpeg?auto=compress&cs=tinysrgb&w=1260&h=750&dpr=2\",  # Padlock with binary (working)\n",
    "    \"DevOps and Continuous Deployment\": \"https://images.pexels.com/photos/270404/pexels-photo-270404.jpeg?auto=compress&cs=tinysrgb&w=1260&h=750&dpr=2\",  # CI/CD workflow (working)\n",
    "    \"Cloud Computing Essentials\": \"https://images.pexels.com/photos/19867468/pexels-photo-19867468/free-photo-of-scrabble-letters-spelling-saas-on-a-wooden-table.jpeg?auto=compress&cs=tinysrgb&w=1260&h=750&dpr=2\",  # Cloud servers (working)\n",
    "\n",
    "    # AI & Data Science (All URLs verified)\n",
    "    \"Advanced Machine Learning\": \"https://images.unsplash.com/photo-1620712943543-bcc4688e7485\",  # Neural network (working)\n",
    "    \"AI for Business Leaders\": \"https://images.pexels.com/photos/8438974/pexels-photo-8438974.jpeg?auto=compress&cs=tinysrgb&w=1260&h=750&dpr=2\",  # AI meeting (working)\n",
    "    \"Data Visualization with Tableau\": \"https://images.pexels.com/photos/265087/pexels-photo-265087.jpeg?auto=compress&cs=tinysrgb&w=1260&h=750&dpr=2\",  # Dashboard (working)\n",
    "\n",
    "    # Hacking & Blockchain (All URLs verified)\n",
    "    \"Ethical Hacking Masterclass\": \"https://images.unsplash.com/photo-1563986768609-322da13575f3\",  # Hacker terminal (working)\n",
    "    \"Blockchain and Decentralized Applications\": \"https://images.pexels.com/photos/14902678/pexels-photo-14902678.jpeg?auto=compress&cs=tinysrgb&w=1260&h=750&dpr=2\",  # Blockchain (working)\n",
    "\n",
    "    # Design & Media (All URLs verified)\n",
    "    \"Graphic Design with Canva\": \"https://images.unsplash.com/photo-1547658719-da2b51169166\",  # Designer (working)\n",
    "    \"Photography and Video Editing\": \"https://images.unsplash.com/photo-1516035069371-29a1b244cc32\",  # Camera (working)\n",
    "\n",
    "    # Programming (All URLs verified)\n",
    "    \"Python for Beginners\": \"https://images.unsplash.com/photo-1526379095098-d400fd0bf935\",  # Python code (working)\n",
    "    \"Mobile App Development with Swift\": \"https://images.unsplash.com/photo-1633356122544-f134324a6cee\",  # Xcode (working)\n",
    "    \"Game Development with Unity\": \"https://images.unsplash.com/photo-1542751371-adc38448a05e\",  # Unity (working)\n",
    "\n",
    "    # Business & Finance (All URLs verified)\n",
    "    \"Stock Market and Trading Strategies\": \"https://images.unsplash.com/photo-1611974789855-9c2a0a7236a3\",  # Stocks (working)\n",
    "    \"Fundamentals of Digital Marketing\": \"https://images.unsplash.com/photo-1551288049-bebda4e38f71\",  # Social media (working)\n",
    "    \"Personal Finance and Wealth Building\": \"https://images.unsplash.com/photo-1554224155-6726b3ff858f\",  # Finance (working)\n",
    "\n",
    "    # Soft Skills (All URLs verified)\n",
    "    \"Public Speaking Mastery\": \"https://images.unsplash.com/photo-1431540015161-0bf868a2d407\",  # Speaker (working)\n",
    "    \"Project Management Fundamentals\": \"https://images.unsplash.com/photo-1573164713714-d95e436ab8d6\",  # Planning (working)\n",
    "\n",
    "    # Health & Lifestyle (Verified)\n",
    "    \"Fitness and Nutrition Coaching\": \"https://images.unsplash.com/photo-1571019613454-1cb2f99b2d8b\"  # Trainer (working)\n",
    "}"
   ]
  },
  {
   "cell_type": "code",
   "execution_count": 64,
   "id": "a0279aff-3a1e-42dc-aae4-3be9c21e0618",
   "metadata": {},
   "outputs": [],
   "source": [
    "instructor_images = {\n",
    "    # Female Instructors (clear feminine-presenting names/titles)\n",
    "    \"Jessica Martinez\": \"https://images.pexels.com/photos/1181686/pexels-photo-1181686.jpeg\",  # Young Hispanic professional\n",
    "    \"Sophia Anderson\": \"https://images.unsplash.com/photo-1438761681033-6461ffad8d80\",  # White woman, business casual\n",
    "    \"Emma Harris\": \"https://images.pexels.com/photos/712521/pexels-photo-712521.jpeg\",  # Woman with notebook (neutral professional)\n",
    "    \"Isabella Scott\": \"https://images.unsplash.com/photo-1573496359142-b8d87734a5a2\",  # Confident woman in blazer\n",
    "    \"Charlotte King\": \"https://images.pexels.com/photos/774909/pexels-photo-774909.jpeg\",  # Woman with warm smile\n",
    "    \"Sarah Lee\": \"https://images.unsplash.com/photo-1524504388940-b1c1722653e1\",  # Asian woman, professional\n",
    "    \"Prof. Emily Johnson\": \"https://images.pexels.com/photos/38554/girl-people-landscape-sun-38554.jpeg\",  # Older woman, academic\n",
    "    \"Dr. Mia Walker\": \"https://images.pexels.com/photos/733872/pexels-photo-733872.jpeg?auto=compress&cs=tinysrgb&w=1260&h=750&dpr=2\",  # Black woman in lab coat (scientist)\n",
    "    \"Olivia Taylor\": \"https://images.pexels.com/photos/1326946/pexels-photo-1326946.jpeg?auto=compress&cs=tinysrgb&w=1260&h=750&dpr=2\",  # Young woman, glasses (professional)\n",
    "\n",
    "    # Male Instructors (clear masculine-presenting names/titles)\n",
    "    \"David Wilson\": \"https://images.unsplash.com/photo-1507003211169-0a1dd7228f2d\",  # Generic professional man\n",
    "    \"Liam Adams\": \"https://images.pexels.com/photos/220453/pexels-photo-220453.jpeg\",  # Young confident man\n",
    "    \"Michael Brown\": \"https://images.unsplash.com/photo-1560250097-0b93528c311a\",  # Middle-aged executive\n",
    "    \"Dr. John Smith\": \"https://images.pexels.com/photos/428333/pexels-photo-428333.jpeg\",  # Older man, doctor/scholar\n",
    "    \"Dr. Robert Davis\": \"https://images.unsplash.com/photo-1545167622-3a6ac756afa4\",  # Gray-haired academic\n",
    "    \"James Clark\": \"https://images.pexels.com/photos/1222271/pexels-photo-1222271.jpeg\",  # Man with beard (professional)\n",
    "    \"Alexander Young\": \"https://images.unsplash.com/photo-1500648767791-00dcc994a43e\",  # Young tech professional\n",
    "    \"Daniel White\": \"https://images.pexels.com/photos/2379004/pexels-photo-2379004.jpeg\",  # Businessman\n",
    "    \"William Thomas\": \"https://images.unsplash.com/photo-1557862921-37829c790f19\",  # Older wise man\n",
    "    \"Ethan Hall\": \"https://images.pexels.com/photos/1043471/pexels-photo-1043471.jpeg\",  # Young developer\n",
    "    \"Benjamin Lewis\": \"https://images.unsplash.com/photo-1519085360753-af0119f7cbe7\"  # Confident professional\n",
    "}"
   ]
  },
  {
   "cell_type": "code",
   "execution_count": 65,
   "id": "159c4e7b-1e29-4401-b7f3-d770fce88b3e",
   "metadata": {},
   "outputs": [
    {
     "data": {
      "text/plain": [
       "(20, 20)"
      ]
     },
     "execution_count": 65,
     "metadata": {},
     "output_type": "execute_result"
    }
   ],
   "source": [
    "len(course_images), len(instructor_images)"
   ]
  },
  {
   "cell_type": "code",
   "execution_count": 66,
   "id": "fd92894e-1953-4c64-992f-c500987e56bf",
   "metadata": {},
   "outputs": [],
   "source": [
    "def add_image_columns(df, course_images, instructor_images):\n",
    "    df['course_images'] = df['course_name'].map(course_images)\n",
    "    df['instructor_images'] = df['instructor'].map(instructor_images)\n",
    "    return df"
   ]
  },
  {
   "cell_type": "code",
   "execution_count": 67,
   "id": "02526c63-41e1-446e-ac00-bcdb18717ce2",
   "metadata": {},
   "outputs": [],
   "source": [
    "df_with_images = add_image_columns(df, course_images, instructor_images)"
   ]
  },
  {
   "cell_type": "code",
   "execution_count": 68,
   "id": "29cee4c4-d705-4d17-8ffc-3232a03ace88",
   "metadata": {},
   "outputs": [
    {
     "data": {
      "text/html": [
       "<div>\n",
       "<style scoped>\n",
       "    .dataframe tbody tr th:only-of-type {\n",
       "        vertical-align: middle;\n",
       "    }\n",
       "\n",
       "    .dataframe tbody tr th {\n",
       "        vertical-align: top;\n",
       "    }\n",
       "\n",
       "    .dataframe thead th {\n",
       "        text-align: right;\n",
       "    }\n",
       "</style>\n",
       "<table border=\"1\" class=\"dataframe\">\n",
       "  <thead>\n",
       "    <tr style=\"text-align: right;\">\n",
       "      <th></th>\n",
       "      <th>user_id</th>\n",
       "      <th>course_id</th>\n",
       "      <th>course_name</th>\n",
       "      <th>instructor</th>\n",
       "      <th>course_duration_hours</th>\n",
       "      <th>certification_offered</th>\n",
       "      <th>difficulty_level</th>\n",
       "      <th>rating</th>\n",
       "      <th>enrollment_numbers</th>\n",
       "      <th>course_price</th>\n",
       "      <th>feedback_score</th>\n",
       "      <th>study_material_available</th>\n",
       "      <th>time_spent_hours</th>\n",
       "      <th>previous_courses_taken</th>\n",
       "      <th>course_images</th>\n",
       "      <th>instructor_images</th>\n",
       "    </tr>\n",
       "  </thead>\n",
       "  <tbody>\n",
       "    <tr>\n",
       "      <th>0</th>\n",
       "      <td>15796</td>\n",
       "      <td>9366</td>\n",
       "      <td>Python for Beginners</td>\n",
       "      <td>Emma Harris</td>\n",
       "      <td>39.1</td>\n",
       "      <td>Yes</td>\n",
       "      <td>Beginner</td>\n",
       "      <td>5.0</td>\n",
       "      <td>21600</td>\n",
       "      <td>317.50</td>\n",
       "      <td>0.797</td>\n",
       "      <td>Yes</td>\n",
       "      <td>17.60</td>\n",
       "      <td>4</td>\n",
       "      <td>https://images.unsplash.com/photo-152637909509...</td>\n",
       "      <td>https://images.pexels.com/photos/712521/pexels...</td>\n",
       "    </tr>\n",
       "    <tr>\n",
       "      <th>1</th>\n",
       "      <td>861</td>\n",
       "      <td>1928</td>\n",
       "      <td>Cybersecurity for Professionals</td>\n",
       "      <td>Alexander Young</td>\n",
       "      <td>36.3</td>\n",
       "      <td>Yes</td>\n",
       "      <td>Beginner</td>\n",
       "      <td>4.3</td>\n",
       "      <td>15379</td>\n",
       "      <td>40.99</td>\n",
       "      <td>0.770</td>\n",
       "      <td>Yes</td>\n",
       "      <td>28.97</td>\n",
       "      <td>9</td>\n",
       "      <td>https://images.pexels.com/photos/577585/pexels...</td>\n",
       "      <td>https://images.unsplash.com/photo-150064876779...</td>\n",
       "    </tr>\n",
       "    <tr>\n",
       "      <th>2</th>\n",
       "      <td>38159</td>\n",
       "      <td>9541</td>\n",
       "      <td>DevOps and Continuous Deployment</td>\n",
       "      <td>Dr. Mia Walker</td>\n",
       "      <td>13.4</td>\n",
       "      <td>Yes</td>\n",
       "      <td>Beginner</td>\n",
       "      <td>3.9</td>\n",
       "      <td>6431</td>\n",
       "      <td>380.81</td>\n",
       "      <td>0.772</td>\n",
       "      <td>Yes</td>\n",
       "      <td>52.44</td>\n",
       "      <td>4</td>\n",
       "      <td>https://images.pexels.com/photos/270404/pexels...</td>\n",
       "      <td>https://images.pexels.com/photos/733872/pexels...</td>\n",
       "    </tr>\n",
       "    <tr>\n",
       "      <th>3</th>\n",
       "      <td>44733</td>\n",
       "      <td>3708</td>\n",
       "      <td>Project Management Fundamentals</td>\n",
       "      <td>Benjamin Lewis</td>\n",
       "      <td>58.3</td>\n",
       "      <td>Yes</td>\n",
       "      <td>Beginner</td>\n",
       "      <td>3.1</td>\n",
       "      <td>48245</td>\n",
       "      <td>342.80</td>\n",
       "      <td>0.969</td>\n",
       "      <td>No</td>\n",
       "      <td>22.29</td>\n",
       "      <td>6</td>\n",
       "      <td>https://images.unsplash.com/photo-157316471371...</td>\n",
       "      <td>https://images.unsplash.com/photo-151908536075...</td>\n",
       "    </tr>\n",
       "    <tr>\n",
       "      <th>4</th>\n",
       "      <td>11285</td>\n",
       "      <td>3361</td>\n",
       "      <td>Ethical Hacking Masterclass</td>\n",
       "      <td>Daniel White</td>\n",
       "      <td>30.8</td>\n",
       "      <td>Yes</td>\n",
       "      <td>Beginner</td>\n",
       "      <td>2.8</td>\n",
       "      <td>34556</td>\n",
       "      <td>381.01</td>\n",
       "      <td>0.555</td>\n",
       "      <td>Yes</td>\n",
       "      <td>22.01</td>\n",
       "      <td>5</td>\n",
       "      <td>https://images.unsplash.com/photo-156398676860...</td>\n",
       "      <td>https://images.pexels.com/photos/2379004/pexel...</td>\n",
       "    </tr>\n",
       "  </tbody>\n",
       "</table>\n",
       "</div>"
      ],
      "text/plain": [
       "   user_id  course_id                       course_name       instructor  \\\n",
       "0    15796       9366              Python for Beginners      Emma Harris   \n",
       "1      861       1928   Cybersecurity for Professionals  Alexander Young   \n",
       "2    38159       9541  DevOps and Continuous Deployment   Dr. Mia Walker   \n",
       "3    44733       3708   Project Management Fundamentals   Benjamin Lewis   \n",
       "4    11285       3361       Ethical Hacking Masterclass     Daniel White   \n",
       "\n",
       "   course_duration_hours certification_offered difficulty_level  rating  \\\n",
       "0                   39.1                   Yes         Beginner     5.0   \n",
       "1                   36.3                   Yes         Beginner     4.3   \n",
       "2                   13.4                   Yes         Beginner     3.9   \n",
       "3                   58.3                   Yes         Beginner     3.1   \n",
       "4                   30.8                   Yes         Beginner     2.8   \n",
       "\n",
       "   enrollment_numbers  course_price  feedback_score study_material_available  \\\n",
       "0               21600        317.50           0.797                      Yes   \n",
       "1               15379         40.99           0.770                      Yes   \n",
       "2                6431        380.81           0.772                      Yes   \n",
       "3               48245        342.80           0.969                       No   \n",
       "4               34556        381.01           0.555                      Yes   \n",
       "\n",
       "   time_spent_hours  previous_courses_taken  \\\n",
       "0             17.60                       4   \n",
       "1             28.97                       9   \n",
       "2             52.44                       4   \n",
       "3             22.29                       6   \n",
       "4             22.01                       5   \n",
       "\n",
       "                                       course_images  \\\n",
       "0  https://images.unsplash.com/photo-152637909509...   \n",
       "1  https://images.pexels.com/photos/577585/pexels...   \n",
       "2  https://images.pexels.com/photos/270404/pexels...   \n",
       "3  https://images.unsplash.com/photo-157316471371...   \n",
       "4  https://images.unsplash.com/photo-156398676860...   \n",
       "\n",
       "                                   instructor_images  \n",
       "0  https://images.pexels.com/photos/712521/pexels...  \n",
       "1  https://images.unsplash.com/photo-150064876779...  \n",
       "2  https://images.pexels.com/photos/733872/pexels...  \n",
       "3  https://images.unsplash.com/photo-151908536075...  \n",
       "4  https://images.pexels.com/photos/2379004/pexel...  "
      ]
     },
     "execution_count": 68,
     "metadata": {},
     "output_type": "execute_result"
    }
   ],
   "source": [
    "df_with_images.head()"
   ]
  },
  {
   "cell_type": "code",
   "execution_count": 69,
   "id": "90cc9151-6ba4-4b71-aea5-f159276f4cfa",
   "metadata": {},
   "outputs": [
    {
     "data": {
      "text/plain": [
       "user_id                     0\n",
       "course_id                   0\n",
       "course_name                 0\n",
       "instructor                  0\n",
       "course_duration_hours       0\n",
       "certification_offered       0\n",
       "difficulty_level            0\n",
       "rating                      0\n",
       "enrollment_numbers          0\n",
       "course_price                0\n",
       "feedback_score              0\n",
       "study_material_available    0\n",
       "time_spent_hours            0\n",
       "previous_courses_taken      0\n",
       "course_images               0\n",
       "instructor_images           0\n",
       "dtype: int64"
      ]
     },
     "execution_count": 69,
     "metadata": {},
     "output_type": "execute_result"
    }
   ],
   "source": [
    "df_with_images.isnull().sum()"
   ]
  },
  {
   "cell_type": "code",
   "execution_count": 70,
   "id": "e67ebc40-b11c-4115-a88f-b1552c26fd51",
   "metadata": {},
   "outputs": [
    {
     "data": {
      "text/html": [
       "<div>\n",
       "<style scoped>\n",
       "    .dataframe tbody tr th:only-of-type {\n",
       "        vertical-align: middle;\n",
       "    }\n",
       "\n",
       "    .dataframe tbody tr th {\n",
       "        vertical-align: top;\n",
       "    }\n",
       "\n",
       "    .dataframe thead th {\n",
       "        text-align: right;\n",
       "    }\n",
       "</style>\n",
       "<table border=\"1\" class=\"dataframe\">\n",
       "  <thead>\n",
       "    <tr style=\"text-align: right;\">\n",
       "      <th></th>\n",
       "      <th>course_name</th>\n",
       "      <th>course_images</th>\n",
       "    </tr>\n",
       "  </thead>\n",
       "  <tbody>\n",
       "    <tr>\n",
       "      <th>0</th>\n",
       "      <td>Python for Beginners</td>\n",
       "      <td>https://images.unsplash.com/photo-152637909509...</td>\n",
       "    </tr>\n",
       "    <tr>\n",
       "      <th>1</th>\n",
       "      <td>Cybersecurity for Professionals</td>\n",
       "      <td>https://images.pexels.com/photos/577585/pexels...</td>\n",
       "    </tr>\n",
       "    <tr>\n",
       "      <th>2</th>\n",
       "      <td>DevOps and Continuous Deployment</td>\n",
       "      <td>https://images.pexels.com/photos/270404/pexels...</td>\n",
       "    </tr>\n",
       "    <tr>\n",
       "      <th>3</th>\n",
       "      <td>Project Management Fundamentals</td>\n",
       "      <td>https://images.unsplash.com/photo-157316471371...</td>\n",
       "    </tr>\n",
       "    <tr>\n",
       "      <th>4</th>\n",
       "      <td>Ethical Hacking Masterclass</td>\n",
       "      <td>https://images.unsplash.com/photo-156398676860...</td>\n",
       "    </tr>\n",
       "    <tr>\n",
       "      <th>6</th>\n",
       "      <td>Networking and System Administration</td>\n",
       "      <td>https://images.unsplash.com/photo-157316471398...</td>\n",
       "    </tr>\n",
       "    <tr>\n",
       "      <th>8</th>\n",
       "      <td>Personal Finance and Wealth Building</td>\n",
       "      <td>https://images.unsplash.com/photo-1554224155-6...</td>\n",
       "    </tr>\n",
       "    <tr>\n",
       "      <th>9</th>\n",
       "      <td>Blockchain and Decentralized Applications</td>\n",
       "      <td>https://images.pexels.com/photos/14902678/pexe...</td>\n",
       "    </tr>\n",
       "    <tr>\n",
       "      <th>10</th>\n",
       "      <td>Graphic Design with Canva</td>\n",
       "      <td>https://images.unsplash.com/photo-1547658719-d...</td>\n",
       "    </tr>\n",
       "    <tr>\n",
       "      <th>11</th>\n",
       "      <td>Fitness and Nutrition Coaching</td>\n",
       "      <td>https://images.unsplash.com/photo-157101961345...</td>\n",
       "    </tr>\n",
       "    <tr>\n",
       "      <th>12</th>\n",
       "      <td>Public Speaking Mastery</td>\n",
       "      <td>https://images.unsplash.com/photo-143154001516...</td>\n",
       "    </tr>\n",
       "    <tr>\n",
       "      <th>14</th>\n",
       "      <td>Photography and Video Editing</td>\n",
       "      <td>https://images.unsplash.com/photo-151603506937...</td>\n",
       "    </tr>\n",
       "    <tr>\n",
       "      <th>17</th>\n",
       "      <td>Advanced Machine Learning</td>\n",
       "      <td>https://images.unsplash.com/photo-162071294354...</td>\n",
       "    </tr>\n",
       "    <tr>\n",
       "      <th>18</th>\n",
       "      <td>Game Development with Unity</td>\n",
       "      <td>https://images.unsplash.com/photo-1542751371-a...</td>\n",
       "    </tr>\n",
       "    <tr>\n",
       "      <th>21</th>\n",
       "      <td>Cloud Computing Essentials</td>\n",
       "      <td>https://images.pexels.com/photos/19867468/pexe...</td>\n",
       "    </tr>\n",
       "    <tr>\n",
       "      <th>23</th>\n",
       "      <td>Mobile App Development with Swift</td>\n",
       "      <td>https://images.unsplash.com/photo-163335612254...</td>\n",
       "    </tr>\n",
       "    <tr>\n",
       "      <th>30</th>\n",
       "      <td>Data Visualization with Tableau</td>\n",
       "      <td>https://images.pexels.com/photos/265087/pexels...</td>\n",
       "    </tr>\n",
       "    <tr>\n",
       "      <th>46</th>\n",
       "      <td>Stock Market and Trading Strategies</td>\n",
       "      <td>https://images.unsplash.com/photo-161197478985...</td>\n",
       "    </tr>\n",
       "    <tr>\n",
       "      <th>49</th>\n",
       "      <td>Fundamentals of Digital Marketing</td>\n",
       "      <td>https://images.unsplash.com/photo-1551288049-b...</td>\n",
       "    </tr>\n",
       "    <tr>\n",
       "      <th>52</th>\n",
       "      <td>AI for Business Leaders</td>\n",
       "      <td>https://images.pexels.com/photos/8438974/pexel...</td>\n",
       "    </tr>\n",
       "  </tbody>\n",
       "</table>\n",
       "</div>"
      ],
      "text/plain": [
       "                                  course_name  \\\n",
       "0                        Python for Beginners   \n",
       "1             Cybersecurity for Professionals   \n",
       "2            DevOps and Continuous Deployment   \n",
       "3             Project Management Fundamentals   \n",
       "4                 Ethical Hacking Masterclass   \n",
       "6        Networking and System Administration   \n",
       "8        Personal Finance and Wealth Building   \n",
       "9   Blockchain and Decentralized Applications   \n",
       "10                  Graphic Design with Canva   \n",
       "11             Fitness and Nutrition Coaching   \n",
       "12                    Public Speaking Mastery   \n",
       "14              Photography and Video Editing   \n",
       "17                  Advanced Machine Learning   \n",
       "18                Game Development with Unity   \n",
       "21                 Cloud Computing Essentials   \n",
       "23          Mobile App Development with Swift   \n",
       "30            Data Visualization with Tableau   \n",
       "46        Stock Market and Trading Strategies   \n",
       "49          Fundamentals of Digital Marketing   \n",
       "52                    AI for Business Leaders   \n",
       "\n",
       "                                        course_images  \n",
       "0   https://images.unsplash.com/photo-152637909509...  \n",
       "1   https://images.pexels.com/photos/577585/pexels...  \n",
       "2   https://images.pexels.com/photos/270404/pexels...  \n",
       "3   https://images.unsplash.com/photo-157316471371...  \n",
       "4   https://images.unsplash.com/photo-156398676860...  \n",
       "6   https://images.unsplash.com/photo-157316471398...  \n",
       "8   https://images.unsplash.com/photo-1554224155-6...  \n",
       "9   https://images.pexels.com/photos/14902678/pexe...  \n",
       "10  https://images.unsplash.com/photo-1547658719-d...  \n",
       "11  https://images.unsplash.com/photo-157101961345...  \n",
       "12  https://images.unsplash.com/photo-143154001516...  \n",
       "14  https://images.unsplash.com/photo-151603506937...  \n",
       "17  https://images.unsplash.com/photo-162071294354...  \n",
       "18  https://images.unsplash.com/photo-1542751371-a...  \n",
       "21  https://images.pexels.com/photos/19867468/pexe...  \n",
       "23  https://images.unsplash.com/photo-163335612254...  \n",
       "30  https://images.pexels.com/photos/265087/pexels...  \n",
       "46  https://images.unsplash.com/photo-161197478985...  \n",
       "49  https://images.unsplash.com/photo-1551288049-b...  \n",
       "52  https://images.pexels.com/photos/8438974/pexel...  "
      ]
     },
     "execution_count": 70,
     "metadata": {},
     "output_type": "execute_result"
    }
   ],
   "source": [
    "unique_courses = df_with_images[['course_name', 'course_images']].drop_duplicates(subset='course_name')\n",
    "unique_courses"
   ]
  },
  {
   "cell_type": "code",
   "execution_count": 71,
   "id": "e80c3021-a950-4f7b-b71a-a5a684951c34",
   "metadata": {},
   "outputs": [
    {
     "name": "stdout",
     "output_type": "stream",
     "text": [
      "Python for Beginners\n"
     ]
    },
    {
     "data": {
      "text/html": [
       "<img src=\"https://images.unsplash.com/photo-1526379095098-d400fd0bf935\"/>"
      ],
      "text/plain": [
       "<IPython.core.display.Image object>"
      ]
     },
     "metadata": {},
     "output_type": "display_data"
    },
    {
     "name": "stdout",
     "output_type": "stream",
     "text": [
      "Cybersecurity for Professionals\n"
     ]
    },
    {
     "data": {
      "text/html": [
       "<img src=\"https://images.pexels.com/photos/577585/pexels-photo-577585.jpeg?auto=compress&cs=tinysrgb&w=1260&h=750&dpr=2\"/>"
      ],
      "text/plain": [
       "<IPython.core.display.Image object>"
      ]
     },
     "metadata": {},
     "output_type": "display_data"
    },
    {
     "name": "stdout",
     "output_type": "stream",
     "text": [
      "DevOps and Continuous Deployment\n"
     ]
    },
    {
     "data": {
      "text/html": [
       "<img src=\"https://images.pexels.com/photos/270404/pexels-photo-270404.jpeg?auto=compress&cs=tinysrgb&w=1260&h=750&dpr=2\"/>"
      ],
      "text/plain": [
       "<IPython.core.display.Image object>"
      ]
     },
     "metadata": {},
     "output_type": "display_data"
    },
    {
     "name": "stdout",
     "output_type": "stream",
     "text": [
      "Project Management Fundamentals\n"
     ]
    },
    {
     "data": {
      "text/html": [
       "<img src=\"https://images.unsplash.com/photo-1573164713714-d95e436ab8d6\"/>"
      ],
      "text/plain": [
       "<IPython.core.display.Image object>"
      ]
     },
     "metadata": {},
     "output_type": "display_data"
    },
    {
     "name": "stdout",
     "output_type": "stream",
     "text": [
      "Ethical Hacking Masterclass\n"
     ]
    },
    {
     "data": {
      "text/html": [
       "<img src=\"https://images.unsplash.com/photo-1563986768609-322da13575f3\"/>"
      ],
      "text/plain": [
       "<IPython.core.display.Image object>"
      ]
     },
     "metadata": {},
     "output_type": "display_data"
    },
    {
     "name": "stdout",
     "output_type": "stream",
     "text": [
      "Networking and System Administration\n"
     ]
    },
    {
     "data": {
      "text/html": [
       "<img src=\"https://images.unsplash.com/photo-1573164713988-8665fc963095\"/>"
      ],
      "text/plain": [
       "<IPython.core.display.Image object>"
      ]
     },
     "metadata": {},
     "output_type": "display_data"
    },
    {
     "name": "stdout",
     "output_type": "stream",
     "text": [
      "Personal Finance and Wealth Building\n"
     ]
    },
    {
     "data": {
      "text/html": [
       "<img src=\"https://images.unsplash.com/photo-1554224155-6726b3ff858f\"/>"
      ],
      "text/plain": [
       "<IPython.core.display.Image object>"
      ]
     },
     "metadata": {},
     "output_type": "display_data"
    },
    {
     "name": "stdout",
     "output_type": "stream",
     "text": [
      "Blockchain and Decentralized Applications\n"
     ]
    },
    {
     "data": {
      "text/html": [
       "<img src=\"https://images.pexels.com/photos/14902678/pexels-photo-14902678.jpeg?auto=compress&cs=tinysrgb&w=1260&h=750&dpr=2\"/>"
      ],
      "text/plain": [
       "<IPython.core.display.Image object>"
      ]
     },
     "metadata": {},
     "output_type": "display_data"
    },
    {
     "name": "stdout",
     "output_type": "stream",
     "text": [
      "Graphic Design with Canva\n"
     ]
    },
    {
     "data": {
      "text/html": [
       "<img src=\"https://images.unsplash.com/photo-1547658719-da2b51169166\"/>"
      ],
      "text/plain": [
       "<IPython.core.display.Image object>"
      ]
     },
     "metadata": {},
     "output_type": "display_data"
    },
    {
     "name": "stdout",
     "output_type": "stream",
     "text": [
      "Fitness and Nutrition Coaching\n"
     ]
    },
    {
     "data": {
      "text/html": [
       "<img src=\"https://images.unsplash.com/photo-1571019613454-1cb2f99b2d8b\"/>"
      ],
      "text/plain": [
       "<IPython.core.display.Image object>"
      ]
     },
     "metadata": {},
     "output_type": "display_data"
    },
    {
     "name": "stdout",
     "output_type": "stream",
     "text": [
      "Public Speaking Mastery\n"
     ]
    },
    {
     "data": {
      "text/html": [
       "<img src=\"https://images.unsplash.com/photo-1431540015161-0bf868a2d407\"/>"
      ],
      "text/plain": [
       "<IPython.core.display.Image object>"
      ]
     },
     "metadata": {},
     "output_type": "display_data"
    },
    {
     "name": "stdout",
     "output_type": "stream",
     "text": [
      "Photography and Video Editing\n"
     ]
    },
    {
     "data": {
      "text/html": [
       "<img src=\"https://images.unsplash.com/photo-1516035069371-29a1b244cc32\"/>"
      ],
      "text/plain": [
       "<IPython.core.display.Image object>"
      ]
     },
     "metadata": {},
     "output_type": "display_data"
    },
    {
     "name": "stdout",
     "output_type": "stream",
     "text": [
      "Advanced Machine Learning\n"
     ]
    },
    {
     "data": {
      "text/html": [
       "<img src=\"https://images.unsplash.com/photo-1620712943543-bcc4688e7485\"/>"
      ],
      "text/plain": [
       "<IPython.core.display.Image object>"
      ]
     },
     "metadata": {},
     "output_type": "display_data"
    },
    {
     "name": "stdout",
     "output_type": "stream",
     "text": [
      "Game Development with Unity\n"
     ]
    },
    {
     "data": {
      "text/html": [
       "<img src=\"https://images.unsplash.com/photo-1542751371-adc38448a05e\"/>"
      ],
      "text/plain": [
       "<IPython.core.display.Image object>"
      ]
     },
     "metadata": {},
     "output_type": "display_data"
    },
    {
     "name": "stdout",
     "output_type": "stream",
     "text": [
      "Cloud Computing Essentials\n"
     ]
    },
    {
     "data": {
      "text/html": [
       "<img src=\"https://images.pexels.com/photos/19867468/pexels-photo-19867468/free-photo-of-scrabble-letters-spelling-saas-on-a-wooden-table.jpeg?auto=compress&cs=tinysrgb&w=1260&h=750&dpr=2\"/>"
      ],
      "text/plain": [
       "<IPython.core.display.Image object>"
      ]
     },
     "metadata": {},
     "output_type": "display_data"
    },
    {
     "name": "stdout",
     "output_type": "stream",
     "text": [
      "Mobile App Development with Swift\n"
     ]
    },
    {
     "data": {
      "text/html": [
       "<img src=\"https://images.unsplash.com/photo-1633356122544-f134324a6cee\"/>"
      ],
      "text/plain": [
       "<IPython.core.display.Image object>"
      ]
     },
     "metadata": {},
     "output_type": "display_data"
    },
    {
     "name": "stdout",
     "output_type": "stream",
     "text": [
      "Data Visualization with Tableau\n"
     ]
    },
    {
     "data": {
      "text/html": [
       "<img src=\"https://images.pexels.com/photos/265087/pexels-photo-265087.jpeg?auto=compress&cs=tinysrgb&w=1260&h=750&dpr=2\"/>"
      ],
      "text/plain": [
       "<IPython.core.display.Image object>"
      ]
     },
     "metadata": {},
     "output_type": "display_data"
    },
    {
     "name": "stdout",
     "output_type": "stream",
     "text": [
      "Stock Market and Trading Strategies\n"
     ]
    },
    {
     "data": {
      "text/html": [
       "<img src=\"https://images.unsplash.com/photo-1611974789855-9c2a0a7236a3\"/>"
      ],
      "text/plain": [
       "<IPython.core.display.Image object>"
      ]
     },
     "metadata": {},
     "output_type": "display_data"
    },
    {
     "name": "stdout",
     "output_type": "stream",
     "text": [
      "Fundamentals of Digital Marketing\n"
     ]
    },
    {
     "data": {
      "text/html": [
       "<img src=\"https://images.unsplash.com/photo-1551288049-bebda4e38f71\"/>"
      ],
      "text/plain": [
       "<IPython.core.display.Image object>"
      ]
     },
     "metadata": {},
     "output_type": "display_data"
    },
    {
     "name": "stdout",
     "output_type": "stream",
     "text": [
      "AI for Business Leaders\n"
     ]
    },
    {
     "data": {
      "text/html": [
       "<img src=\"https://images.pexels.com/photos/8438974/pexels-photo-8438974.jpeg?auto=compress&cs=tinysrgb&w=1260&h=750&dpr=2\"/>"
      ],
      "text/plain": [
       "<IPython.core.display.Image object>"
      ]
     },
     "metadata": {},
     "output_type": "display_data"
    }
   ],
   "source": [
    "from IPython.display import Image, display\n",
    "# Loop through the DataFrame and display course name + image\n",
    "for _, row in unique_courses.iterrows():\n",
    "    print(row['course_name'])\n",
    "    display(Image(url=row['course_images']))"
   ]
  },
  {
   "cell_type": "code",
   "execution_count": 72,
   "id": "e9d1862b-1cde-4f84-b240-4dd43f7c2d0f",
   "metadata": {},
   "outputs": [],
   "source": [
    "unique_instructors = df_with_images[['instructor', 'instructor_images']].drop_duplicates(subset='instructor')"
   ]
  },
  {
   "cell_type": "code",
   "execution_count": 73,
   "id": "42d54ebc-02a2-4521-8475-0fead7394c73",
   "metadata": {},
   "outputs": [
    {
     "data": {
      "text/html": [
       "<div>\n",
       "<style scoped>\n",
       "    .dataframe tbody tr th:only-of-type {\n",
       "        vertical-align: middle;\n",
       "    }\n",
       "\n",
       "    .dataframe tbody tr th {\n",
       "        vertical-align: top;\n",
       "    }\n",
       "\n",
       "    .dataframe thead th {\n",
       "        text-align: right;\n",
       "    }\n",
       "</style>\n",
       "<table border=\"1\" class=\"dataframe\">\n",
       "  <thead>\n",
       "    <tr style=\"text-align: right;\">\n",
       "      <th></th>\n",
       "      <th>instructor</th>\n",
       "      <th>instructor_images</th>\n",
       "    </tr>\n",
       "  </thead>\n",
       "  <tbody>\n",
       "    <tr>\n",
       "      <th>0</th>\n",
       "      <td>Emma Harris</td>\n",
       "      <td>https://images.pexels.com/photos/712521/pexels...</td>\n",
       "    </tr>\n",
       "    <tr>\n",
       "      <th>1</th>\n",
       "      <td>Alexander Young</td>\n",
       "      <td>https://images.unsplash.com/photo-150064876779...</td>\n",
       "    </tr>\n",
       "    <tr>\n",
       "      <th>2</th>\n",
       "      <td>Dr. Mia Walker</td>\n",
       "      <td>https://images.pexels.com/photos/733872/pexels...</td>\n",
       "    </tr>\n",
       "    <tr>\n",
       "      <th>3</th>\n",
       "      <td>Benjamin Lewis</td>\n",
       "      <td>https://images.unsplash.com/photo-151908536075...</td>\n",
       "    </tr>\n",
       "    <tr>\n",
       "      <th>4</th>\n",
       "      <td>Daniel White</td>\n",
       "      <td>https://images.pexels.com/photos/2379004/pexel...</td>\n",
       "    </tr>\n",
       "    <tr>\n",
       "      <th>5</th>\n",
       "      <td>Dr. John Smith</td>\n",
       "      <td>https://images.pexels.com/photos/428333/pexels...</td>\n",
       "    </tr>\n",
       "    <tr>\n",
       "      <th>6</th>\n",
       "      <td>Dr. Robert Davis</td>\n",
       "      <td>https://images.unsplash.com/photo-1545167622-3...</td>\n",
       "    </tr>\n",
       "    <tr>\n",
       "      <th>7</th>\n",
       "      <td>Liam Adams</td>\n",
       "      <td>https://images.pexels.com/photos/220453/pexels...</td>\n",
       "    </tr>\n",
       "    <tr>\n",
       "      <th>13</th>\n",
       "      <td>Prof. Emily Johnson</td>\n",
       "      <td>https://images.pexels.com/photos/38554/girl-pe...</td>\n",
       "    </tr>\n",
       "    <tr>\n",
       "      <th>15</th>\n",
       "      <td>Isabella Scott</td>\n",
       "      <td>https://images.unsplash.com/photo-157349635914...</td>\n",
       "    </tr>\n",
       "    <tr>\n",
       "      <th>16</th>\n",
       "      <td>Charlotte King</td>\n",
       "      <td>https://images.pexels.com/photos/774909/pexels...</td>\n",
       "    </tr>\n",
       "    <tr>\n",
       "      <th>21</th>\n",
       "      <td>Sarah Lee</td>\n",
       "      <td>https://images.unsplash.com/photo-152450438894...</td>\n",
       "    </tr>\n",
       "    <tr>\n",
       "      <th>26</th>\n",
       "      <td>Sophia Anderson</td>\n",
       "      <td>https://images.unsplash.com/photo-143876168103...</td>\n",
       "    </tr>\n",
       "    <tr>\n",
       "      <th>27</th>\n",
       "      <td>James Clark</td>\n",
       "      <td>https://images.pexels.com/photos/1222271/pexel...</td>\n",
       "    </tr>\n",
       "    <tr>\n",
       "      <th>28</th>\n",
       "      <td>Ethan Hall</td>\n",
       "      <td>https://images.pexels.com/photos/1043471/pexel...</td>\n",
       "    </tr>\n",
       "    <tr>\n",
       "      <th>32</th>\n",
       "      <td>Olivia Taylor</td>\n",
       "      <td>https://images.pexels.com/photos/1326946/pexel...</td>\n",
       "    </tr>\n",
       "    <tr>\n",
       "      <th>36</th>\n",
       "      <td>Michael Brown</td>\n",
       "      <td>https://images.unsplash.com/photo-1560250097-0...</td>\n",
       "    </tr>\n",
       "    <tr>\n",
       "      <th>39</th>\n",
       "      <td>William Thomas</td>\n",
       "      <td>https://images.unsplash.com/photo-1557862921-3...</td>\n",
       "    </tr>\n",
       "    <tr>\n",
       "      <th>43</th>\n",
       "      <td>Jessica Martinez</td>\n",
       "      <td>https://images.pexels.com/photos/1181686/pexel...</td>\n",
       "    </tr>\n",
       "    <tr>\n",
       "      <th>84</th>\n",
       "      <td>David Wilson</td>\n",
       "      <td>https://images.unsplash.com/photo-150700321116...</td>\n",
       "    </tr>\n",
       "  </tbody>\n",
       "</table>\n",
       "</div>"
      ],
      "text/plain": [
       "             instructor                                  instructor_images\n",
       "0           Emma Harris  https://images.pexels.com/photos/712521/pexels...\n",
       "1       Alexander Young  https://images.unsplash.com/photo-150064876779...\n",
       "2        Dr. Mia Walker  https://images.pexels.com/photos/733872/pexels...\n",
       "3        Benjamin Lewis  https://images.unsplash.com/photo-151908536075...\n",
       "4          Daniel White  https://images.pexels.com/photos/2379004/pexel...\n",
       "5        Dr. John Smith  https://images.pexels.com/photos/428333/pexels...\n",
       "6      Dr. Robert Davis  https://images.unsplash.com/photo-1545167622-3...\n",
       "7            Liam Adams  https://images.pexels.com/photos/220453/pexels...\n",
       "13  Prof. Emily Johnson  https://images.pexels.com/photos/38554/girl-pe...\n",
       "15       Isabella Scott  https://images.unsplash.com/photo-157349635914...\n",
       "16       Charlotte King  https://images.pexels.com/photos/774909/pexels...\n",
       "21            Sarah Lee  https://images.unsplash.com/photo-152450438894...\n",
       "26      Sophia Anderson  https://images.unsplash.com/photo-143876168103...\n",
       "27          James Clark  https://images.pexels.com/photos/1222271/pexel...\n",
       "28           Ethan Hall  https://images.pexels.com/photos/1043471/pexel...\n",
       "32        Olivia Taylor  https://images.pexels.com/photos/1326946/pexel...\n",
       "36        Michael Brown  https://images.unsplash.com/photo-1560250097-0...\n",
       "39       William Thomas  https://images.unsplash.com/photo-1557862921-3...\n",
       "43     Jessica Martinez  https://images.pexels.com/photos/1181686/pexel...\n",
       "84         David Wilson  https://images.unsplash.com/photo-150700321116..."
      ]
     },
     "execution_count": 73,
     "metadata": {},
     "output_type": "execute_result"
    }
   ],
   "source": [
    "unique_instructors"
   ]
  },
  {
   "cell_type": "code",
   "execution_count": 74,
   "id": "37fa9406-47a6-48bf-9f81-513c8af72716",
   "metadata": {},
   "outputs": [
    {
     "name": "stdout",
     "output_type": "stream",
     "text": [
      "Emma Harris\n"
     ]
    },
    {
     "data": {
      "text/html": [
       "<img src=\"https://images.pexels.com/photos/712521/pexels-photo-712521.jpeg\"/>"
      ],
      "text/plain": [
       "<IPython.core.display.Image object>"
      ]
     },
     "metadata": {},
     "output_type": "display_data"
    },
    {
     "name": "stdout",
     "output_type": "stream",
     "text": [
      "Alexander Young\n"
     ]
    },
    {
     "data": {
      "text/html": [
       "<img src=\"https://images.unsplash.com/photo-1500648767791-00dcc994a43e\"/>"
      ],
      "text/plain": [
       "<IPython.core.display.Image object>"
      ]
     },
     "metadata": {},
     "output_type": "display_data"
    },
    {
     "name": "stdout",
     "output_type": "stream",
     "text": [
      "Dr. Mia Walker\n"
     ]
    },
    {
     "data": {
      "text/html": [
       "<img src=\"https://images.pexels.com/photos/733872/pexels-photo-733872.jpeg?auto=compress&cs=tinysrgb&w=1260&h=750&dpr=2\"/>"
      ],
      "text/plain": [
       "<IPython.core.display.Image object>"
      ]
     },
     "metadata": {},
     "output_type": "display_data"
    },
    {
     "name": "stdout",
     "output_type": "stream",
     "text": [
      "Benjamin Lewis\n"
     ]
    },
    {
     "data": {
      "text/html": [
       "<img src=\"https://images.unsplash.com/photo-1519085360753-af0119f7cbe7\"/>"
      ],
      "text/plain": [
       "<IPython.core.display.Image object>"
      ]
     },
     "metadata": {},
     "output_type": "display_data"
    },
    {
     "name": "stdout",
     "output_type": "stream",
     "text": [
      "Daniel White\n"
     ]
    },
    {
     "data": {
      "text/html": [
       "<img src=\"https://images.pexels.com/photos/2379004/pexels-photo-2379004.jpeg\"/>"
      ],
      "text/plain": [
       "<IPython.core.display.Image object>"
      ]
     },
     "metadata": {},
     "output_type": "display_data"
    },
    {
     "name": "stdout",
     "output_type": "stream",
     "text": [
      "Dr. John Smith\n"
     ]
    },
    {
     "data": {
      "text/html": [
       "<img src=\"https://images.pexels.com/photos/428333/pexels-photo-428333.jpeg\"/>"
      ],
      "text/plain": [
       "<IPython.core.display.Image object>"
      ]
     },
     "metadata": {},
     "output_type": "display_data"
    },
    {
     "name": "stdout",
     "output_type": "stream",
     "text": [
      "Dr. Robert Davis\n"
     ]
    },
    {
     "data": {
      "text/html": [
       "<img src=\"https://images.unsplash.com/photo-1545167622-3a6ac756afa4\"/>"
      ],
      "text/plain": [
       "<IPython.core.display.Image object>"
      ]
     },
     "metadata": {},
     "output_type": "display_data"
    },
    {
     "name": "stdout",
     "output_type": "stream",
     "text": [
      "Liam Adams\n"
     ]
    },
    {
     "data": {
      "text/html": [
       "<img src=\"https://images.pexels.com/photos/220453/pexels-photo-220453.jpeg\"/>"
      ],
      "text/plain": [
       "<IPython.core.display.Image object>"
      ]
     },
     "metadata": {},
     "output_type": "display_data"
    },
    {
     "name": "stdout",
     "output_type": "stream",
     "text": [
      "Prof. Emily Johnson\n"
     ]
    },
    {
     "data": {
      "text/html": [
       "<img src=\"https://images.pexels.com/photos/38554/girl-people-landscape-sun-38554.jpeg\"/>"
      ],
      "text/plain": [
       "<IPython.core.display.Image object>"
      ]
     },
     "metadata": {},
     "output_type": "display_data"
    },
    {
     "name": "stdout",
     "output_type": "stream",
     "text": [
      "Isabella Scott\n"
     ]
    },
    {
     "data": {
      "text/html": [
       "<img src=\"https://images.unsplash.com/photo-1573496359142-b8d87734a5a2\"/>"
      ],
      "text/plain": [
       "<IPython.core.display.Image object>"
      ]
     },
     "metadata": {},
     "output_type": "display_data"
    },
    {
     "name": "stdout",
     "output_type": "stream",
     "text": [
      "Charlotte King\n"
     ]
    },
    {
     "data": {
      "text/html": [
       "<img src=\"https://images.pexels.com/photos/774909/pexels-photo-774909.jpeg\"/>"
      ],
      "text/plain": [
       "<IPython.core.display.Image object>"
      ]
     },
     "metadata": {},
     "output_type": "display_data"
    },
    {
     "name": "stdout",
     "output_type": "stream",
     "text": [
      "Sarah Lee\n"
     ]
    },
    {
     "data": {
      "text/html": [
       "<img src=\"https://images.unsplash.com/photo-1524504388940-b1c1722653e1\"/>"
      ],
      "text/plain": [
       "<IPython.core.display.Image object>"
      ]
     },
     "metadata": {},
     "output_type": "display_data"
    },
    {
     "name": "stdout",
     "output_type": "stream",
     "text": [
      "Sophia Anderson\n"
     ]
    },
    {
     "data": {
      "text/html": [
       "<img src=\"https://images.unsplash.com/photo-1438761681033-6461ffad8d80\"/>"
      ],
      "text/plain": [
       "<IPython.core.display.Image object>"
      ]
     },
     "metadata": {},
     "output_type": "display_data"
    },
    {
     "name": "stdout",
     "output_type": "stream",
     "text": [
      "James Clark\n"
     ]
    },
    {
     "data": {
      "text/html": [
       "<img src=\"https://images.pexels.com/photos/1222271/pexels-photo-1222271.jpeg\"/>"
      ],
      "text/plain": [
       "<IPython.core.display.Image object>"
      ]
     },
     "metadata": {},
     "output_type": "display_data"
    },
    {
     "name": "stdout",
     "output_type": "stream",
     "text": [
      "Ethan Hall\n"
     ]
    },
    {
     "data": {
      "text/html": [
       "<img src=\"https://images.pexels.com/photos/1043471/pexels-photo-1043471.jpeg\"/>"
      ],
      "text/plain": [
       "<IPython.core.display.Image object>"
      ]
     },
     "metadata": {},
     "output_type": "display_data"
    },
    {
     "name": "stdout",
     "output_type": "stream",
     "text": [
      "Olivia Taylor\n"
     ]
    },
    {
     "data": {
      "text/html": [
       "<img src=\"https://images.pexels.com/photos/1326946/pexels-photo-1326946.jpeg?auto=compress&cs=tinysrgb&w=1260&h=750&dpr=2\"/>"
      ],
      "text/plain": [
       "<IPython.core.display.Image object>"
      ]
     },
     "metadata": {},
     "output_type": "display_data"
    },
    {
     "name": "stdout",
     "output_type": "stream",
     "text": [
      "Michael Brown\n"
     ]
    },
    {
     "data": {
      "text/html": [
       "<img src=\"https://images.unsplash.com/photo-1560250097-0b93528c311a\"/>"
      ],
      "text/plain": [
       "<IPython.core.display.Image object>"
      ]
     },
     "metadata": {},
     "output_type": "display_data"
    },
    {
     "name": "stdout",
     "output_type": "stream",
     "text": [
      "William Thomas\n"
     ]
    },
    {
     "data": {
      "text/html": [
       "<img src=\"https://images.unsplash.com/photo-1557862921-37829c790f19\"/>"
      ],
      "text/plain": [
       "<IPython.core.display.Image object>"
      ]
     },
     "metadata": {},
     "output_type": "display_data"
    },
    {
     "name": "stdout",
     "output_type": "stream",
     "text": [
      "Jessica Martinez\n"
     ]
    },
    {
     "data": {
      "text/html": [
       "<img src=\"https://images.pexels.com/photos/1181686/pexels-photo-1181686.jpeg\"/>"
      ],
      "text/plain": [
       "<IPython.core.display.Image object>"
      ]
     },
     "metadata": {},
     "output_type": "display_data"
    },
    {
     "name": "stdout",
     "output_type": "stream",
     "text": [
      "David Wilson\n"
     ]
    },
    {
     "data": {
      "text/html": [
       "<img src=\"https://images.unsplash.com/photo-1507003211169-0a1dd7228f2d\"/>"
      ],
      "text/plain": [
       "<IPython.core.display.Image object>"
      ]
     },
     "metadata": {},
     "output_type": "display_data"
    }
   ],
   "source": [
    "from IPython.display import Image, display\n",
    "# Loop through the DataFrame and display course name + image\n",
    "for _, row in unique_instructors.iterrows():\n",
    "    print(row['instructor'])\n",
    "    display(Image(url=row['instructor_images']))"
   ]
  },
  {
   "cell_type": "code",
   "execution_count": 75,
   "id": "1314622e-b162-4da3-8791-acc12792f36c",
   "metadata": {},
   "outputs": [
    {
     "data": {
      "text/html": [
       "<div>\n",
       "<style scoped>\n",
       "    .dataframe tbody tr th:only-of-type {\n",
       "        vertical-align: middle;\n",
       "    }\n",
       "\n",
       "    .dataframe tbody tr th {\n",
       "        vertical-align: top;\n",
       "    }\n",
       "\n",
       "    .dataframe thead th {\n",
       "        text-align: right;\n",
       "    }\n",
       "</style>\n",
       "<table border=\"1\" class=\"dataframe\">\n",
       "  <thead>\n",
       "    <tr style=\"text-align: right;\">\n",
       "      <th></th>\n",
       "      <th>user_id</th>\n",
       "      <th>course_id</th>\n",
       "      <th>course_name</th>\n",
       "      <th>instructor</th>\n",
       "      <th>course_duration_hours</th>\n",
       "      <th>certification_offered</th>\n",
       "      <th>difficulty_level</th>\n",
       "      <th>rating</th>\n",
       "      <th>enrollment_numbers</th>\n",
       "      <th>course_price</th>\n",
       "      <th>feedback_score</th>\n",
       "      <th>study_material_available</th>\n",
       "      <th>time_spent_hours</th>\n",
       "      <th>previous_courses_taken</th>\n",
       "      <th>course_images</th>\n",
       "      <th>instructor_images</th>\n",
       "    </tr>\n",
       "  </thead>\n",
       "  <tbody>\n",
       "    <tr>\n",
       "      <th>0</th>\n",
       "      <td>15796</td>\n",
       "      <td>9366</td>\n",
       "      <td>Python for Beginners</td>\n",
       "      <td>Emma Harris</td>\n",
       "      <td>39.1</td>\n",
       "      <td>Yes</td>\n",
       "      <td>Beginner</td>\n",
       "      <td>5.0</td>\n",
       "      <td>21600</td>\n",
       "      <td>317.50</td>\n",
       "      <td>0.797</td>\n",
       "      <td>Yes</td>\n",
       "      <td>17.60</td>\n",
       "      <td>4</td>\n",
       "      <td>https://images.unsplash.com/photo-152637909509...</td>\n",
       "      <td>https://images.pexels.com/photos/712521/pexels...</td>\n",
       "    </tr>\n",
       "    <tr>\n",
       "      <th>1</th>\n",
       "      <td>861</td>\n",
       "      <td>1928</td>\n",
       "      <td>Cybersecurity for Professionals</td>\n",
       "      <td>Alexander Young</td>\n",
       "      <td>36.3</td>\n",
       "      <td>Yes</td>\n",
       "      <td>Beginner</td>\n",
       "      <td>4.3</td>\n",
       "      <td>15379</td>\n",
       "      <td>40.99</td>\n",
       "      <td>0.770</td>\n",
       "      <td>Yes</td>\n",
       "      <td>28.97</td>\n",
       "      <td>9</td>\n",
       "      <td>https://images.pexels.com/photos/577585/pexels...</td>\n",
       "      <td>https://images.unsplash.com/photo-150064876779...</td>\n",
       "    </tr>\n",
       "    <tr>\n",
       "      <th>2</th>\n",
       "      <td>38159</td>\n",
       "      <td>9541</td>\n",
       "      <td>DevOps and Continuous Deployment</td>\n",
       "      <td>Dr. Mia Walker</td>\n",
       "      <td>13.4</td>\n",
       "      <td>Yes</td>\n",
       "      <td>Beginner</td>\n",
       "      <td>3.9</td>\n",
       "      <td>6431</td>\n",
       "      <td>380.81</td>\n",
       "      <td>0.772</td>\n",
       "      <td>Yes</td>\n",
       "      <td>52.44</td>\n",
       "      <td>4</td>\n",
       "      <td>https://images.pexels.com/photos/270404/pexels...</td>\n",
       "      <td>https://images.pexels.com/photos/733872/pexels...</td>\n",
       "    </tr>\n",
       "    <tr>\n",
       "      <th>3</th>\n",
       "      <td>44733</td>\n",
       "      <td>3708</td>\n",
       "      <td>Project Management Fundamentals</td>\n",
       "      <td>Benjamin Lewis</td>\n",
       "      <td>58.3</td>\n",
       "      <td>Yes</td>\n",
       "      <td>Beginner</td>\n",
       "      <td>3.1</td>\n",
       "      <td>48245</td>\n",
       "      <td>342.80</td>\n",
       "      <td>0.969</td>\n",
       "      <td>No</td>\n",
       "      <td>22.29</td>\n",
       "      <td>6</td>\n",
       "      <td>https://images.unsplash.com/photo-157316471371...</td>\n",
       "      <td>https://images.unsplash.com/photo-151908536075...</td>\n",
       "    </tr>\n",
       "    <tr>\n",
       "      <th>4</th>\n",
       "      <td>11285</td>\n",
       "      <td>3361</td>\n",
       "      <td>Ethical Hacking Masterclass</td>\n",
       "      <td>Daniel White</td>\n",
       "      <td>30.8</td>\n",
       "      <td>Yes</td>\n",
       "      <td>Beginner</td>\n",
       "      <td>2.8</td>\n",
       "      <td>34556</td>\n",
       "      <td>381.01</td>\n",
       "      <td>0.555</td>\n",
       "      <td>Yes</td>\n",
       "      <td>22.01</td>\n",
       "      <td>5</td>\n",
       "      <td>https://images.unsplash.com/photo-156398676860...</td>\n",
       "      <td>https://images.pexels.com/photos/2379004/pexel...</td>\n",
       "    </tr>\n",
       "  </tbody>\n",
       "</table>\n",
       "</div>"
      ],
      "text/plain": [
       "   user_id  course_id                       course_name       instructor  \\\n",
       "0    15796       9366              Python for Beginners      Emma Harris   \n",
       "1      861       1928   Cybersecurity for Professionals  Alexander Young   \n",
       "2    38159       9541  DevOps and Continuous Deployment   Dr. Mia Walker   \n",
       "3    44733       3708   Project Management Fundamentals   Benjamin Lewis   \n",
       "4    11285       3361       Ethical Hacking Masterclass     Daniel White   \n",
       "\n",
       "   course_duration_hours certification_offered difficulty_level  rating  \\\n",
       "0                   39.1                   Yes         Beginner     5.0   \n",
       "1                   36.3                   Yes         Beginner     4.3   \n",
       "2                   13.4                   Yes         Beginner     3.9   \n",
       "3                   58.3                   Yes         Beginner     3.1   \n",
       "4                   30.8                   Yes         Beginner     2.8   \n",
       "\n",
       "   enrollment_numbers  course_price  feedback_score study_material_available  \\\n",
       "0               21600        317.50           0.797                      Yes   \n",
       "1               15379         40.99           0.770                      Yes   \n",
       "2                6431        380.81           0.772                      Yes   \n",
       "3               48245        342.80           0.969                       No   \n",
       "4               34556        381.01           0.555                      Yes   \n",
       "\n",
       "   time_spent_hours  previous_courses_taken  \\\n",
       "0             17.60                       4   \n",
       "1             28.97                       9   \n",
       "2             52.44                       4   \n",
       "3             22.29                       6   \n",
       "4             22.01                       5   \n",
       "\n",
       "                                       course_images  \\\n",
       "0  https://images.unsplash.com/photo-152637909509...   \n",
       "1  https://images.pexels.com/photos/577585/pexels...   \n",
       "2  https://images.pexels.com/photos/270404/pexels...   \n",
       "3  https://images.unsplash.com/photo-157316471371...   \n",
       "4  https://images.unsplash.com/photo-156398676860...   \n",
       "\n",
       "                                   instructor_images  \n",
       "0  https://images.pexels.com/photos/712521/pexels...  \n",
       "1  https://images.unsplash.com/photo-150064876779...  \n",
       "2  https://images.pexels.com/photos/733872/pexels...  \n",
       "3  https://images.unsplash.com/photo-151908536075...  \n",
       "4  https://images.pexels.com/photos/2379004/pexel...  "
      ]
     },
     "execution_count": 75,
     "metadata": {},
     "output_type": "execute_result"
    }
   ],
   "source": [
    "df_with_images.head()"
   ]
  },
  {
   "cell_type": "code",
   "execution_count": 77,
   "id": "db67d894-31ec-4ca5-8054-f851fd809df1",
   "metadata": {},
   "outputs": [
    {
     "name": "stdout",
     "output_type": "stream",
     "text": [
      "New Dataset Saved\n"
     ]
    }
   ],
   "source": [
    "df_with_images.to_csv('Datasets/online_courses_updated.csv')\n",
    "print('New Dataset Saved')"
   ]
  },
  {
   "cell_type": "code",
   "execution_count": null,
   "id": "e55bdb46-0dca-4227-b1a7-038df42f0e1f",
   "metadata": {},
   "outputs": [],
   "source": []
  }
 ],
 "metadata": {
  "kernelspec": {
   "display_name": "Python 3 (ipykernel)",
   "language": "python",
   "name": "python3"
  },
  "language_info": {
   "codemirror_mode": {
    "name": "ipython",
    "version": 3
   },
   "file_extension": ".py",
   "mimetype": "text/x-python",
   "name": "python",
   "nbconvert_exporter": "python",
   "pygments_lexer": "ipython3",
   "version": "3.11.5"
  }
 },
 "nbformat": 4,
 "nbformat_minor": 5
}
