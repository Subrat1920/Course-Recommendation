{
 "cells": [
  {
   "cell_type": "code",
   "execution_count": 1,
   "id": "9407ea20-e5d6-4b35-8a30-a921035d8018",
   "metadata": {},
   "outputs": [],
   "source": [
    "import pandas as pd\n",
    "import numpy as np\n",
    "import tensorflow as tf\n",
    "from tensorflow.keras.models import Model\n",
    "from tensorflow.keras.layers import Input, Embedding, Dense, Concatenate, Flatten, Dropout\n",
    "from sklearn.preprocessing import LabelEncoder, MinMaxScaler"
   ]
  },
  {
   "cell_type": "code",
   "execution_count": 2,
   "id": "257e43f3-66cd-4da2-9cc7-906492c87be8",
   "metadata": {},
   "outputs": [
    {
     "data": {
      "text/html": [
       "<div>\n",
       "<style scoped>\n",
       "    .dataframe tbody tr th:only-of-type {\n",
       "        vertical-align: middle;\n",
       "    }\n",
       "\n",
       "    .dataframe tbody tr th {\n",
       "        vertical-align: top;\n",
       "    }\n",
       "\n",
       "    .dataframe thead th {\n",
       "        text-align: right;\n",
       "    }\n",
       "</style>\n",
       "<table border=\"1\" class=\"dataframe\">\n",
       "  <thead>\n",
       "    <tr style=\"text-align: right;\">\n",
       "      <th></th>\n",
       "      <th>user_id</th>\n",
       "      <th>course_id</th>\n",
       "      <th>course_name</th>\n",
       "      <th>instructor</th>\n",
       "      <th>course_duration_hours</th>\n",
       "      <th>certification_offered</th>\n",
       "      <th>difficulty_level</th>\n",
       "      <th>rating</th>\n",
       "      <th>enrollment_numbers</th>\n",
       "      <th>course_price</th>\n",
       "      <th>feedback_score</th>\n",
       "      <th>study_material_available</th>\n",
       "      <th>time_spent_hours</th>\n",
       "      <th>previous_courses_taken</th>\n",
       "      <th>course_images</th>\n",
       "      <th>instructor_images</th>\n",
       "    </tr>\n",
       "  </thead>\n",
       "  <tbody>\n",
       "    <tr>\n",
       "      <th>0</th>\n",
       "      <td>15796</td>\n",
       "      <td>9366</td>\n",
       "      <td>Python for Beginners</td>\n",
       "      <td>Emma Harris</td>\n",
       "      <td>39.1</td>\n",
       "      <td>Yes</td>\n",
       "      <td>Beginner</td>\n",
       "      <td>5.0</td>\n",
       "      <td>21600</td>\n",
       "      <td>317.50</td>\n",
       "      <td>0.797</td>\n",
       "      <td>Yes</td>\n",
       "      <td>17.60</td>\n",
       "      <td>4</td>\n",
       "      <td>https://images.unsplash.com/photo-152637909509...</td>\n",
       "      <td>https://images.pexels.com/photos/712521/pexels...</td>\n",
       "    </tr>\n",
       "    <tr>\n",
       "      <th>1</th>\n",
       "      <td>861</td>\n",
       "      <td>1928</td>\n",
       "      <td>Cybersecurity for Professionals</td>\n",
       "      <td>Alexander Young</td>\n",
       "      <td>36.3</td>\n",
       "      <td>Yes</td>\n",
       "      <td>Beginner</td>\n",
       "      <td>4.3</td>\n",
       "      <td>15379</td>\n",
       "      <td>40.99</td>\n",
       "      <td>0.770</td>\n",
       "      <td>Yes</td>\n",
       "      <td>28.97</td>\n",
       "      <td>9</td>\n",
       "      <td>https://images.pexels.com/photos/577585/pexels...</td>\n",
       "      <td>https://images.unsplash.com/photo-150064876779...</td>\n",
       "    </tr>\n",
       "    <tr>\n",
       "      <th>2</th>\n",
       "      <td>38159</td>\n",
       "      <td>9541</td>\n",
       "      <td>DevOps and Continuous Deployment</td>\n",
       "      <td>Dr. Mia Walker</td>\n",
       "      <td>13.4</td>\n",
       "      <td>Yes</td>\n",
       "      <td>Beginner</td>\n",
       "      <td>3.9</td>\n",
       "      <td>6431</td>\n",
       "      <td>380.81</td>\n",
       "      <td>0.772</td>\n",
       "      <td>Yes</td>\n",
       "      <td>52.44</td>\n",
       "      <td>4</td>\n",
       "      <td>https://images.pexels.com/photos/270404/pexels...</td>\n",
       "      <td>https://images.pexels.com/photos/733872/pexels...</td>\n",
       "    </tr>\n",
       "    <tr>\n",
       "      <th>3</th>\n",
       "      <td>44733</td>\n",
       "      <td>3708</td>\n",
       "      <td>Project Management Fundamentals</td>\n",
       "      <td>Benjamin Lewis</td>\n",
       "      <td>58.3</td>\n",
       "      <td>Yes</td>\n",
       "      <td>Beginner</td>\n",
       "      <td>3.1</td>\n",
       "      <td>48245</td>\n",
       "      <td>342.80</td>\n",
       "      <td>0.969</td>\n",
       "      <td>No</td>\n",
       "      <td>22.29</td>\n",
       "      <td>6</td>\n",
       "      <td>https://images.unsplash.com/photo-157316471371...</td>\n",
       "      <td>https://images.unsplash.com/photo-151908536075...</td>\n",
       "    </tr>\n",
       "    <tr>\n",
       "      <th>4</th>\n",
       "      <td>11285</td>\n",
       "      <td>3361</td>\n",
       "      <td>Ethical Hacking Masterclass</td>\n",
       "      <td>Daniel White</td>\n",
       "      <td>30.8</td>\n",
       "      <td>Yes</td>\n",
       "      <td>Beginner</td>\n",
       "      <td>2.8</td>\n",
       "      <td>34556</td>\n",
       "      <td>381.01</td>\n",
       "      <td>0.555</td>\n",
       "      <td>Yes</td>\n",
       "      <td>22.01</td>\n",
       "      <td>5</td>\n",
       "      <td>https://images.unsplash.com/photo-156398676860...</td>\n",
       "      <td>https://images.pexels.com/photos/2379004/pexel...</td>\n",
       "    </tr>\n",
       "  </tbody>\n",
       "</table>\n",
       "</div>"
      ],
      "text/plain": [
       "   user_id  course_id                       course_name       instructor  \\\n",
       "0    15796       9366              Python for Beginners      Emma Harris   \n",
       "1      861       1928   Cybersecurity for Professionals  Alexander Young   \n",
       "2    38159       9541  DevOps and Continuous Deployment   Dr. Mia Walker   \n",
       "3    44733       3708   Project Management Fundamentals   Benjamin Lewis   \n",
       "4    11285       3361       Ethical Hacking Masterclass     Daniel White   \n",
       "\n",
       "   course_duration_hours certification_offered difficulty_level  rating  \\\n",
       "0                   39.1                   Yes         Beginner     5.0   \n",
       "1                   36.3                   Yes         Beginner     4.3   \n",
       "2                   13.4                   Yes         Beginner     3.9   \n",
       "3                   58.3                   Yes         Beginner     3.1   \n",
       "4                   30.8                   Yes         Beginner     2.8   \n",
       "\n",
       "   enrollment_numbers  course_price  feedback_score study_material_available  \\\n",
       "0               21600        317.50           0.797                      Yes   \n",
       "1               15379         40.99           0.770                      Yes   \n",
       "2                6431        380.81           0.772                      Yes   \n",
       "3               48245        342.80           0.969                       No   \n",
       "4               34556        381.01           0.555                      Yes   \n",
       "\n",
       "   time_spent_hours  previous_courses_taken  \\\n",
       "0             17.60                       4   \n",
       "1             28.97                       9   \n",
       "2             52.44                       4   \n",
       "3             22.29                       6   \n",
       "4             22.01                       5   \n",
       "\n",
       "                                       course_images  \\\n",
       "0  https://images.unsplash.com/photo-152637909509...   \n",
       "1  https://images.pexels.com/photos/577585/pexels...   \n",
       "2  https://images.pexels.com/photos/270404/pexels...   \n",
       "3  https://images.unsplash.com/photo-157316471371...   \n",
       "4  https://images.unsplash.com/photo-156398676860...   \n",
       "\n",
       "                                   instructor_images  \n",
       "0  https://images.pexels.com/photos/712521/pexels...  \n",
       "1  https://images.unsplash.com/photo-150064876779...  \n",
       "2  https://images.pexels.com/photos/733872/pexels...  \n",
       "3  https://images.unsplash.com/photo-151908536075...  \n",
       "4  https://images.pexels.com/photos/2379004/pexel...  "
      ]
     },
     "execution_count": 2,
     "metadata": {},
     "output_type": "execute_result"
    }
   ],
   "source": [
    "df = pd.read_csv('Datasets/online_courses_updated.csv')\n",
    "df = df.drop(columns=['Unnamed: 0'])\n",
    "df.head()"
   ]
  },
  {
   "cell_type": "code",
   "execution_count": 3,
   "id": "cef00f18-c120-4ece-ac0a-cbc4be9d2db4",
   "metadata": {},
   "outputs": [
    {
     "data": {
      "text/plain": [
       "39999.200000000004"
      ]
     },
     "execution_count": 3,
     "metadata": {},
     "output_type": "execute_result"
    }
   ],
   "source": [
    "max_enrollments, min_enrollments = df['enrollment_numbers'].max(), df['enrollment_numbers'].min()\n",
    "threshold_score = max_enrollments * 0.80\n",
    "threshold_score"
   ]
  },
  {
   "cell_type": "code",
   "execution_count": 4,
   "id": "bb28b707-3ad1-479d-8089-eb91a045e479",
   "metadata": {},
   "outputs": [
    {
     "data": {
      "text/plain": [
       "(20041, 16)"
      ]
     },
     "execution_count": 4,
     "metadata": {},
     "output_type": "execute_result"
    }
   ],
   "source": [
    "df = df[df['enrollment_numbers']>threshold_score]\n",
    "df.shape"
   ]
  },
  {
   "cell_type": "code",
   "execution_count": 5,
   "id": "50a6db2b-c22e-478a-9ba3-7b92fdc1e990",
   "metadata": {},
   "outputs": [],
   "source": [
    "original_df = df.copy()"
   ]
  },
  {
   "cell_type": "code",
   "execution_count": 6,
   "id": "605e436b-6fe3-4c6d-aea0-a076a83a0a78",
   "metadata": {},
   "outputs": [],
   "source": [
    "course_le = LabelEncoder()           ## Course Encoder\n",
    "instructor_le = LabelEncoder()       ## Instructor Encoder\n",
    "difficulty_le = LabelEncoder()       ## Difficulty Encoder"
   ]
  },
  {
   "cell_type": "code",
   "execution_count": 7,
   "id": "699c78a2-b7dc-4ede-9abe-c3c0450977b6",
   "metadata": {},
   "outputs": [],
   "source": [
    "## Transforming the encoders\n",
    "df['course_name_enc'] = course_le.fit_transform(df['course_name'])\n",
    "df['instructor_enc'] = instructor_le.fit_transform(df['instructor'])\n",
    "df['difficulty_enc'] = difficulty_le.fit_transform(df['difficulty_level'])"
   ]
  },
  {
   "cell_type": "code",
   "execution_count": 8,
   "id": "a87545e0-ae36-4626-8523-2a3d7da57d08",
   "metadata": {},
   "outputs": [],
   "source": [
    "## Normalize numeric features\n",
    "scaler = MinMaxScaler()\n",
    "num_cols = ['course_duration_hours', 'rating', 'feedback_score',\n",
    "            'course_price', 'enrollment_numbers', 'time_spent_hours',\n",
    "            'previous_courses_taken']"
   ]
  },
  {
   "cell_type": "code",
   "execution_count": 9,
   "id": "920e88a6-b89e-491a-b16d-05e72b73c874",
   "metadata": {},
   "outputs": [],
   "source": [
    "## Scaling them\n",
    "df[num_cols] = scaler.fit_transform(df[num_cols])"
   ]
  },
  {
   "cell_type": "code",
   "execution_count": 10,
   "id": "5a007319-6528-42a9-b274-74fdba070e66",
   "metadata": {},
   "outputs": [],
   "source": [
    "X_cat = df[['course_name_enc', 'instructor_enc', 'difficulty_enc']]     ## Categorical Features\n",
    "X_num = df[num_cols]                                                    ## Numerical Features "
   ]
  },
  {
   "cell_type": "code",
   "execution_count": 11,
   "id": "bf098588-4fcf-4557-86e9-518f7501aa05",
   "metadata": {},
   "outputs": [],
   "source": [
    "## Inputs\n",
    "input_course = Input(shape=(1,))\n",
    "input_instructor = Input(shape=(1,))\n",
    "input_difficulty = Input(shape=(1,))\n",
    "input_numeric = Input(shape=(X_num.shape[1],))"
   ]
  },
  {
   "cell_type": "code",
   "execution_count": 18,
   "id": "3524fcb2-5322-4c8a-a8ad-540ba2ae7cb5",
   "metadata": {},
   "outputs": [],
   "source": [
    "## Embeddings\n",
    "emb_course = Embedding(input_dim=df['course_name_enc'].nunique()+1, output_dim=8, name='emb_course')(input_course)\n",
    "emb_instr = Embedding(input_dim=df['instructor_enc'].nunique()+1, output_dim=8, name='emb_instr')(input_instructor)\n",
    "emb_diff = Embedding(input_dim=df['difficulty_enc'].nunique()+1, output_dim=4, name='emb_diff')(input_difficulty)"
   ]
  },
  {
   "cell_type": "code",
   "execution_count": 19,
   "id": "3275f86a-efe1-4868-bfca-8a28950216bc",
   "metadata": {},
   "outputs": [],
   "source": [
    "## Flatten embeddings\n",
    "flat_course = Flatten()(emb_course)\n",
    "flat_instr = Flatten()(emb_instr)\n",
    "flat_diff = Flatten()(emb_diff)"
   ]
  },
  {
   "cell_type": "code",
   "execution_count": 20,
   "id": "256aea49-356d-416b-83a4-d29bd4bcadbe",
   "metadata": {},
   "outputs": [],
   "source": [
    "x = Concatenate()([flat_course, flat_instr, flat_diff, input_numeric])\n",
    "x = Dense(128, activation='relu')(x)\n",
    "x = Dropout(0.3)(x)\n",
    "x = Dense(64, activation='relu')(x)"
   ]
  },
  {
   "cell_type": "code",
   "execution_count": 21,
   "id": "3295dded-23bb-443e-9aab-0710f2bff9ff",
   "metadata": {},
   "outputs": [],
   "source": [
    "embedding_output = Dense(32, activation='relu', name='final_embedding')(x)\n",
    "model = Model(inputs=[input_course, input_instructor, input_difficulty, input_numeric], outputs=embedding_output)"
   ]
  },
  {
   "cell_type": "code",
   "execution_count": 22,
   "id": "cf6ceb22-c980-4bc3-97e8-afa2f79cff22",
   "metadata": {},
   "outputs": [],
   "source": [
    "# Get embeddings for all courses\n",
    "course_embeddings = model.predict([\n",
    "    df['course_name_enc'],\n",
    "    df['instructor_enc'],\n",
    "    df['difficulty_enc'],\n",
    "    df[num_cols]\n",
    "], verbose=0)"
   ]
  },
  {
   "cell_type": "code",
   "execution_count": 23,
   "id": "e17de053-84b9-4caf-8f8a-d59e2e5c8cd0",
   "metadata": {},
   "outputs": [
    {
     "data": {
      "text/plain": [
       "(20041, 32)"
      ]
     },
     "execution_count": 23,
     "metadata": {},
     "output_type": "execute_result"
    }
   ],
   "source": [
    "course_embeddings.shape"
   ]
  },
  {
   "cell_type": "code",
   "execution_count": 24,
   "id": "11de57e9-03ed-4504-9fc8-f09276457171",
   "metadata": {},
   "outputs": [],
   "source": [
    "from sklearn.metrics.pairwise import cosine_similarity\n",
    "def recommend_dl(course_name, instructor_name, top_n=6):\n",
    "    try:\n",
    "        course_idx = df[\n",
    "            (original_df['course_name'] == course_name) &\n",
    "            (original_df['instructor'] == instructor_name)\n",
    "        ].index[0]\n",
    "    except IndexError:\n",
    "        return \"Course not found.\"\n",
    "\n",
    "    input_vec = course_embeddings[course_idx].reshape(1, -1)\n",
    "    sims = cosine_similarity(input_vec, course_embeddings).flatten()\n",
    "\n",
    "    similar_idxs = np.argsort(sims)[::-1]\n",
    "    similar_idxs = [i for i in similar_idxs if i != course_idx][:top_n]\n",
    "\n",
    "    final_df = original_df.iloc[similar_idxs][['course_name', 'instructor', 'rating', 'course_images', 'instructor_images']].reset_index()\n",
    "    final_df = final_df.drop(columns=['index'])\n",
    "    return final_df"
   ]
  },
  {
   "cell_type": "code",
   "execution_count": 25,
   "id": "4419b507-ef12-4084-b386-ff508058e573",
   "metadata": {},
   "outputs": [
    {
     "data": {
      "text/html": [
       "<div>\n",
       "<style scoped>\n",
       "    .dataframe tbody tr th:only-of-type {\n",
       "        vertical-align: middle;\n",
       "    }\n",
       "\n",
       "    .dataframe tbody tr th {\n",
       "        vertical-align: top;\n",
       "    }\n",
       "\n",
       "    .dataframe thead th {\n",
       "        text-align: right;\n",
       "    }\n",
       "</style>\n",
       "<table border=\"1\" class=\"dataframe\">\n",
       "  <thead>\n",
       "    <tr style=\"text-align: right;\">\n",
       "      <th></th>\n",
       "      <th>course_name</th>\n",
       "      <th>instructor</th>\n",
       "      <th>rating</th>\n",
       "      <th>course_images</th>\n",
       "      <th>instructor_images</th>\n",
       "    </tr>\n",
       "  </thead>\n",
       "  <tbody>\n",
       "    <tr>\n",
       "      <th>0</th>\n",
       "      <td>Ethical Hacking Masterclass</td>\n",
       "      <td>Dr. John Smith</td>\n",
       "      <td>5.0</td>\n",
       "      <td>https://images.unsplash.com/photo-156398676860...</td>\n",
       "      <td>https://images.pexels.com/photos/428333/pexels...</td>\n",
       "    </tr>\n",
       "    <tr>\n",
       "      <th>1</th>\n",
       "      <td>Project Management Fundamentals</td>\n",
       "      <td>Olivia Taylor</td>\n",
       "      <td>4.3</td>\n",
       "      <td>https://images.unsplash.com/photo-157316471371...</td>\n",
       "      <td>https://images.pexels.com/photos/1326946/pexel...</td>\n",
       "    </tr>\n",
       "    <tr>\n",
       "      <th>2</th>\n",
       "      <td>Advanced Machine Learning</td>\n",
       "      <td>Sophia Anderson</td>\n",
       "      <td>5.0</td>\n",
       "      <td>https://images.unsplash.com/photo-162071294354...</td>\n",
       "      <td>https://images.unsplash.com/photo-143876168103...</td>\n",
       "    </tr>\n",
       "    <tr>\n",
       "      <th>3</th>\n",
       "      <td>AI for Business Leaders</td>\n",
       "      <td>Dr. John Smith</td>\n",
       "      <td>4.9</td>\n",
       "      <td>https://images.pexels.com/photos/8438974/pexel...</td>\n",
       "      <td>https://images.pexels.com/photos/428333/pexels...</td>\n",
       "    </tr>\n",
       "    <tr>\n",
       "      <th>4</th>\n",
       "      <td>Photography and Video Editing</td>\n",
       "      <td>Isabella Scott</td>\n",
       "      <td>4.8</td>\n",
       "      <td>https://images.unsplash.com/photo-151603506937...</td>\n",
       "      <td>https://images.unsplash.com/photo-157349635914...</td>\n",
       "    </tr>\n",
       "    <tr>\n",
       "      <th>5</th>\n",
       "      <td>Photography and Video Editing</td>\n",
       "      <td>Sophia Anderson</td>\n",
       "      <td>4.6</td>\n",
       "      <td>https://images.unsplash.com/photo-151603506937...</td>\n",
       "      <td>https://images.unsplash.com/photo-143876168103...</td>\n",
       "    </tr>\n",
       "  </tbody>\n",
       "</table>\n",
       "</div>"
      ],
      "text/plain": [
       "                       course_name       instructor  rating  \\\n",
       "0      Ethical Hacking Masterclass   Dr. John Smith     5.0   \n",
       "1  Project Management Fundamentals    Olivia Taylor     4.3   \n",
       "2        Advanced Machine Learning  Sophia Anderson     5.0   \n",
       "3          AI for Business Leaders   Dr. John Smith     4.9   \n",
       "4    Photography and Video Editing   Isabella Scott     4.8   \n",
       "5    Photography and Video Editing  Sophia Anderson     4.6   \n",
       "\n",
       "                                       course_images  \\\n",
       "0  https://images.unsplash.com/photo-156398676860...   \n",
       "1  https://images.unsplash.com/photo-157316471371...   \n",
       "2  https://images.unsplash.com/photo-162071294354...   \n",
       "3  https://images.pexels.com/photos/8438974/pexel...   \n",
       "4  https://images.unsplash.com/photo-151603506937...   \n",
       "5  https://images.unsplash.com/photo-151603506937...   \n",
       "\n",
       "                                   instructor_images  \n",
       "0  https://images.pexels.com/photos/428333/pexels...  \n",
       "1  https://images.pexels.com/photos/1326946/pexel...  \n",
       "2  https://images.unsplash.com/photo-143876168103...  \n",
       "3  https://images.pexels.com/photos/428333/pexels...  \n",
       "4  https://images.unsplash.com/photo-157349635914...  \n",
       "5  https://images.unsplash.com/photo-143876168103...  "
      ]
     },
     "execution_count": 25,
     "metadata": {},
     "output_type": "execute_result"
    }
   ],
   "source": [
    "recommends = recommend_dl(\"Advanced Machine Learning\", \"Liam Adams\", top_n=6)\n",
    "recommends"
   ]
  },
  {
   "cell_type": "code",
   "execution_count": null,
   "id": "5ce57629-7c8b-40eb-82ee-bfb96f1eea4b",
   "metadata": {},
   "outputs": [],
   "source": []
  }
 ],
 "metadata": {
  "kernelspec": {
   "display_name": "Python 3 (ipykernel)",
   "language": "python",
   "name": "python3"
  },
  "language_info": {
   "codemirror_mode": {
    "name": "ipython",
    "version": 3
   },
   "file_extension": ".py",
   "mimetype": "text/x-python",
   "name": "python",
   "nbconvert_exporter": "python",
   "pygments_lexer": "ipython3",
   "version": "3.11.5"
  }
 },
 "nbformat": 4,
 "nbformat_minor": 5
}
